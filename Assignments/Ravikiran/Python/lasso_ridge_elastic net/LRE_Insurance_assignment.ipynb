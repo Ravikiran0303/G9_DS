{
  "nbformat": 4,
  "nbformat_minor": 0,
  "metadata": {
    "colab": {
      "provenance": []
    },
    "kernelspec": {
      "name": "python3",
      "display_name": "Python 3"
    },
    "language_info": {
      "name": "python"
    }
  },
  "cells": [
    {
      "cell_type": "code",
      "execution_count": 2,
      "metadata": {
        "id": "uGZcvuaynARr"
      },
      "outputs": [],
      "source": [
        "import numpy as np\n",
        "import pandas as pd\n",
        "import seaborn as sns\n",
        "import matplotlib.pyplot as plt\n",
        "%matplotlib inline\n",
        "import warnings\n",
        "warnings.filterwarnings(\"ignore\")"
      ]
    },
    {
      "cell_type": "code",
      "source": [
        "data=pd.read_csv('insurance.csv')"
      ],
      "metadata": {
        "colab": {
          "base_uri": "https://localhost:8080/",
          "height": 287
        },
        "id": "2gQvUzG8nVE6",
        "outputId": "45b9ed96-8a94-40ec-87bf-4052f3bba02f"
      },
      "execution_count": 4,
      "outputs": [
        {
          "output_type": "error",
          "ename": "FileNotFoundError",
          "evalue": "[Errno 2] No such file or directory: 'insurance.csv'",
          "traceback": [
            "\u001b[0;31m---------------------------------------------------------------------------\u001b[0m",
            "\u001b[0;31mFileNotFoundError\u001b[0m                         Traceback (most recent call last)",
            "\u001b[0;32m<ipython-input-4-d9814363cd3b>\u001b[0m in \u001b[0;36m<cell line: 1>\u001b[0;34m()\u001b[0m\n\u001b[0;32m----> 1\u001b[0;31m \u001b[0mdata\u001b[0m\u001b[0;34m=\u001b[0m\u001b[0mpd\u001b[0m\u001b[0;34m.\u001b[0m\u001b[0mread_csv\u001b[0m\u001b[0;34m(\u001b[0m\u001b[0;34m'insurance.csv'\u001b[0m\u001b[0;34m)\u001b[0m\u001b[0;34m\u001b[0m\u001b[0;34m\u001b[0m\u001b[0m\n\u001b[0m",
            "\u001b[0;32m/usr/local/lib/python3.10/dist-packages/pandas/io/parsers/readers.py\u001b[0m in \u001b[0;36mread_csv\u001b[0;34m(filepath_or_buffer, sep, delimiter, header, names, index_col, usecols, dtype, engine, converters, true_values, false_values, skipinitialspace, skiprows, skipfooter, nrows, na_values, keep_default_na, na_filter, verbose, skip_blank_lines, parse_dates, infer_datetime_format, keep_date_col, date_parser, date_format, dayfirst, cache_dates, iterator, chunksize, compression, thousands, decimal, lineterminator, quotechar, quoting, doublequote, escapechar, comment, encoding, encoding_errors, dialect, on_bad_lines, delim_whitespace, low_memory, memory_map, float_precision, storage_options, dtype_backend)\u001b[0m\n\u001b[1;32m    910\u001b[0m     \u001b[0mkwds\u001b[0m\u001b[0;34m.\u001b[0m\u001b[0mupdate\u001b[0m\u001b[0;34m(\u001b[0m\u001b[0mkwds_defaults\u001b[0m\u001b[0;34m)\u001b[0m\u001b[0;34m\u001b[0m\u001b[0;34m\u001b[0m\u001b[0m\n\u001b[1;32m    911\u001b[0m \u001b[0;34m\u001b[0m\u001b[0m\n\u001b[0;32m--> 912\u001b[0;31m     \u001b[0;32mreturn\u001b[0m \u001b[0m_read\u001b[0m\u001b[0;34m(\u001b[0m\u001b[0mfilepath_or_buffer\u001b[0m\u001b[0;34m,\u001b[0m \u001b[0mkwds\u001b[0m\u001b[0;34m)\u001b[0m\u001b[0;34m\u001b[0m\u001b[0;34m\u001b[0m\u001b[0m\n\u001b[0m\u001b[1;32m    913\u001b[0m \u001b[0;34m\u001b[0m\u001b[0m\n\u001b[1;32m    914\u001b[0m \u001b[0;34m\u001b[0m\u001b[0m\n",
            "\u001b[0;32m/usr/local/lib/python3.10/dist-packages/pandas/io/parsers/readers.py\u001b[0m in \u001b[0;36m_read\u001b[0;34m(filepath_or_buffer, kwds)\u001b[0m\n\u001b[1;32m    575\u001b[0m \u001b[0;34m\u001b[0m\u001b[0m\n\u001b[1;32m    576\u001b[0m     \u001b[0;31m# Create the parser.\u001b[0m\u001b[0;34m\u001b[0m\u001b[0;34m\u001b[0m\u001b[0m\n\u001b[0;32m--> 577\u001b[0;31m     \u001b[0mparser\u001b[0m \u001b[0;34m=\u001b[0m \u001b[0mTextFileReader\u001b[0m\u001b[0;34m(\u001b[0m\u001b[0mfilepath_or_buffer\u001b[0m\u001b[0;34m,\u001b[0m \u001b[0;34m**\u001b[0m\u001b[0mkwds\u001b[0m\u001b[0;34m)\u001b[0m\u001b[0;34m\u001b[0m\u001b[0;34m\u001b[0m\u001b[0m\n\u001b[0m\u001b[1;32m    578\u001b[0m \u001b[0;34m\u001b[0m\u001b[0m\n\u001b[1;32m    579\u001b[0m     \u001b[0;32mif\u001b[0m \u001b[0mchunksize\u001b[0m \u001b[0;32mor\u001b[0m \u001b[0miterator\u001b[0m\u001b[0;34m:\u001b[0m\u001b[0;34m\u001b[0m\u001b[0;34m\u001b[0m\u001b[0m\n",
            "\u001b[0;32m/usr/local/lib/python3.10/dist-packages/pandas/io/parsers/readers.py\u001b[0m in \u001b[0;36m__init__\u001b[0;34m(self, f, engine, **kwds)\u001b[0m\n\u001b[1;32m   1405\u001b[0m \u001b[0;34m\u001b[0m\u001b[0m\n\u001b[1;32m   1406\u001b[0m         \u001b[0mself\u001b[0m\u001b[0;34m.\u001b[0m\u001b[0mhandles\u001b[0m\u001b[0;34m:\u001b[0m \u001b[0mIOHandles\u001b[0m \u001b[0;34m|\u001b[0m \u001b[0;32mNone\u001b[0m \u001b[0;34m=\u001b[0m \u001b[0;32mNone\u001b[0m\u001b[0;34m\u001b[0m\u001b[0;34m\u001b[0m\u001b[0m\n\u001b[0;32m-> 1407\u001b[0;31m         \u001b[0mself\u001b[0m\u001b[0;34m.\u001b[0m\u001b[0m_engine\u001b[0m \u001b[0;34m=\u001b[0m \u001b[0mself\u001b[0m\u001b[0;34m.\u001b[0m\u001b[0m_make_engine\u001b[0m\u001b[0;34m(\u001b[0m\u001b[0mf\u001b[0m\u001b[0;34m,\u001b[0m \u001b[0mself\u001b[0m\u001b[0;34m.\u001b[0m\u001b[0mengine\u001b[0m\u001b[0;34m)\u001b[0m\u001b[0;34m\u001b[0m\u001b[0;34m\u001b[0m\u001b[0m\n\u001b[0m\u001b[1;32m   1408\u001b[0m \u001b[0;34m\u001b[0m\u001b[0m\n\u001b[1;32m   1409\u001b[0m     \u001b[0;32mdef\u001b[0m \u001b[0mclose\u001b[0m\u001b[0;34m(\u001b[0m\u001b[0mself\u001b[0m\u001b[0;34m)\u001b[0m \u001b[0;34m->\u001b[0m \u001b[0;32mNone\u001b[0m\u001b[0;34m:\u001b[0m\u001b[0;34m\u001b[0m\u001b[0;34m\u001b[0m\u001b[0m\n",
            "\u001b[0;32m/usr/local/lib/python3.10/dist-packages/pandas/io/parsers/readers.py\u001b[0m in \u001b[0;36m_make_engine\u001b[0;34m(self, f, engine)\u001b[0m\n\u001b[1;32m   1659\u001b[0m                 \u001b[0;32mif\u001b[0m \u001b[0;34m\"b\"\u001b[0m \u001b[0;32mnot\u001b[0m \u001b[0;32min\u001b[0m \u001b[0mmode\u001b[0m\u001b[0;34m:\u001b[0m\u001b[0;34m\u001b[0m\u001b[0;34m\u001b[0m\u001b[0m\n\u001b[1;32m   1660\u001b[0m                     \u001b[0mmode\u001b[0m \u001b[0;34m+=\u001b[0m \u001b[0;34m\"b\"\u001b[0m\u001b[0;34m\u001b[0m\u001b[0;34m\u001b[0m\u001b[0m\n\u001b[0;32m-> 1661\u001b[0;31m             self.handles = get_handle(\n\u001b[0m\u001b[1;32m   1662\u001b[0m                 \u001b[0mf\u001b[0m\u001b[0;34m,\u001b[0m\u001b[0;34m\u001b[0m\u001b[0;34m\u001b[0m\u001b[0m\n\u001b[1;32m   1663\u001b[0m                 \u001b[0mmode\u001b[0m\u001b[0;34m,\u001b[0m\u001b[0;34m\u001b[0m\u001b[0;34m\u001b[0m\u001b[0m\n",
            "\u001b[0;32m/usr/local/lib/python3.10/dist-packages/pandas/io/common.py\u001b[0m in \u001b[0;36mget_handle\u001b[0;34m(path_or_buf, mode, encoding, compression, memory_map, is_text, errors, storage_options)\u001b[0m\n\u001b[1;32m    857\u001b[0m         \u001b[0;32mif\u001b[0m \u001b[0mioargs\u001b[0m\u001b[0;34m.\u001b[0m\u001b[0mencoding\u001b[0m \u001b[0;32mand\u001b[0m \u001b[0;34m\"b\"\u001b[0m \u001b[0;32mnot\u001b[0m \u001b[0;32min\u001b[0m \u001b[0mioargs\u001b[0m\u001b[0;34m.\u001b[0m\u001b[0mmode\u001b[0m\u001b[0;34m:\u001b[0m\u001b[0;34m\u001b[0m\u001b[0;34m\u001b[0m\u001b[0m\n\u001b[1;32m    858\u001b[0m             \u001b[0;31m# Encoding\u001b[0m\u001b[0;34m\u001b[0m\u001b[0;34m\u001b[0m\u001b[0m\n\u001b[0;32m--> 859\u001b[0;31m             handle = open(\n\u001b[0m\u001b[1;32m    860\u001b[0m                 \u001b[0mhandle\u001b[0m\u001b[0;34m,\u001b[0m\u001b[0;34m\u001b[0m\u001b[0;34m\u001b[0m\u001b[0m\n\u001b[1;32m    861\u001b[0m                 \u001b[0mioargs\u001b[0m\u001b[0;34m.\u001b[0m\u001b[0mmode\u001b[0m\u001b[0;34m,\u001b[0m\u001b[0;34m\u001b[0m\u001b[0;34m\u001b[0m\u001b[0m\n",
            "\u001b[0;31mFileNotFoundError\u001b[0m: [Errno 2] No such file or directory: 'insurance.csv'"
          ]
        }
      ]
    },
    {
      "cell_type": "code",
      "source": [
        "data.head()"
      ],
      "metadata": {
        "id": "Cnv_Ww5hnZCZ"
      },
      "execution_count": null,
      "outputs": []
    },
    {
      "cell_type": "code",
      "source": [
        "from google.colab import drive\n",
        "drive.mount('/content/drive')"
      ],
      "metadata": {
        "id": "Zm5D7QWFqeIg"
      },
      "execution_count": null,
      "outputs": []
    },
    {
      "cell_type": "code",
      "source": [
        "data.shape"
      ],
      "metadata": {
        "id": "ZJx8xB8Mnbd-"
      },
      "execution_count": null,
      "outputs": []
    },
    {
      "cell_type": "code",
      "source": [
        "data.columns"
      ],
      "metadata": {
        "id": "39RNvNp5ndDw"
      },
      "execution_count": null,
      "outputs": []
    },
    {
      "cell_type": "code",
      "source": [
        "data.info()"
      ],
      "metadata": {
        "id": "MaCZPRW2nfve"
      },
      "execution_count": null,
      "outputs": []
    },
    {
      "cell_type": "code",
      "source": [
        "data.describe()"
      ],
      "metadata": {
        "id": "-LDMsHNinhyS"
      },
      "execution_count": null,
      "outputs": []
    },
    {
      "cell_type": "code",
      "source": [
        "data.describe(include=\"object\")"
      ],
      "metadata": {
        "id": "_zbObFxTnhta"
      },
      "execution_count": null,
      "outputs": []
    },
    {
      "cell_type": "code",
      "source": [
        "data.isnull().sum()"
      ],
      "metadata": {
        "id": "fJ-Rca9jnmmb"
      },
      "execution_count": null,
      "outputs": []
    },
    {
      "cell_type": "code",
      "source": [
        "data.dtypes"
      ],
      "metadata": {
        "id": "5UMxhPw-no1y"
      },
      "execution_count": null,
      "outputs": []
    },
    {
      "cell_type": "code",
      "source": [
        "data.duplicated().sum()"
      ],
      "metadata": {
        "id": "60CyBtS4npVN"
      },
      "execution_count": null,
      "outputs": []
    },
    {
      "cell_type": "code",
      "source": [
        "for i in data.columns:\n",
        "    if data[i].dtype==\"object\":\n",
        "        print(data[i].value_counts())"
      ],
      "metadata": {
        "id": "SrCJi2cYnqcX"
      },
      "execution_count": null,
      "outputs": []
    },
    {
      "cell_type": "code",
      "source": [
        "from sklearn.preprocessing import LabelEncoder\n",
        "label=LabelEncoder()\n",
        "\n",
        "for i in data.columns:\n",
        "    if data[i].dtype==\"object\":\n",
        "        data[i]=label.fit_transform(data[i])\n",
        "\n",
        "\n",
        "data"
      ],
      "metadata": {
        "id": "-o4xGfzZnqY_"
      },
      "execution_count": null,
      "outputs": []
    },
    {
      "cell_type": "code",
      "source": [
        "for i in data.columns:\n",
        "    sns.displot(data[i], color=\"orange\")\n",
        "    plt.show()"
      ],
      "metadata": {
        "id": "y4PaRl8lnqV-"
      },
      "execution_count": null,
      "outputs": []
    },
    {
      "cell_type": "code",
      "source": [
        "sns.pairplot(data=data,hue='smoker')"
      ],
      "metadata": {
        "id": "Hk8CFp7hnqPW"
      },
      "execution_count": null,
      "outputs": []
    },
    {
      "cell_type": "code",
      "source": [
        "plt.figure(figsize=(10,8))\n",
        "sns.heatmap(data.corr(), annot=True)"
      ],
      "metadata": {
        "id": "e9bViAjPnp3S"
      },
      "execution_count": null,
      "outputs": []
    },
    {
      "cell_type": "code",
      "source": [
        "for i in data.columns:\n",
        "    plt.boxplot(data[i],vert=False)\n",
        "    plt.xlabel(i)\n",
        "    plt.show()"
      ],
      "metadata": {
        "id": "8hTvfYRVoDmR"
      },
      "execution_count": null,
      "outputs": []
    },
    {
      "cell_type": "code",
      "source": [
        "q1=np.quantile(data['bmi'],0.25)\n",
        "q2=np.quantile(data['bmi'],0.50)\n",
        "q3=np.quantile(data['bmi'],0.75)\n",
        "q4=np.quantile(data['bmi'],1)\n",
        "\n",
        "iqr=q3-q1\n",
        "\n",
        "lower_fence=q1-(1.5*iqr)\n",
        "upper_fence=q3+(1.5*iqr)\n",
        "print('lower_fence',lower_fence)\n",
        "print('upper_fence', upper_fence)"
      ],
      "metadata": {
        "id": "5VXyjAf9oDiy"
      },
      "execution_count": null,
      "outputs": []
    },
    {
      "cell_type": "code",
      "source": [
        "df=data.loc[(data[\"bmi\"]<upper_fence) & (data[\"bmi\"]>lower_fence)]\n",
        "sns.boxplot(data=df , x=\"bmi\")"
      ],
      "metadata": {
        "id": "xp5UgRn_oDfi"
      },
      "execution_count": null,
      "outputs": []
    },
    {
      "cell_type": "code",
      "source": [
        "x=data.drop(['charges'], axis=1)\n",
        "y=data['charges']"
      ],
      "metadata": {
        "id": "WaLoWTG2oDcZ"
      },
      "execution_count": null,
      "outputs": []
    },
    {
      "cell_type": "code",
      "source": [
        "print(x)"
      ],
      "metadata": {
        "id": "6sVzC8AxoDZQ"
      },
      "execution_count": null,
      "outputs": []
    },
    {
      "cell_type": "code",
      "source": [
        "y"
      ],
      "metadata": {
        "id": "ejPeksuYoDWG"
      },
      "execution_count": null,
      "outputs": []
    },
    {
      "cell_type": "code",
      "source": [
        "from sklearn.preprocessing import StandardScaler\n",
        "scalar=StandardScaler()\n",
        "scalar.fit(x)\n",
        "print(x)"
      ],
      "metadata": {
        "id": "sb50IRsdoDL6"
      },
      "execution_count": null,
      "outputs": []
    },
    {
      "cell_type": "code",
      "source": [
        "from sklearn.model_selection import train_test_split\n",
        "x_train ,x_test,y_train,y_test=train_test_split(x,y,train_size=0.2, random_state=2)\n",
        "x_train.shape,x_test.shape, y_train.shape,y_test.shape"
      ],
      "metadata": {
        "id": "p_bE8pm0oTK1"
      },
      "execution_count": null,
      "outputs": []
    },
    {
      "cell_type": "code",
      "source": [
        "#Linear regression\n",
        "\n",
        "from sklearn.linear_model import LinearRegression\n",
        "linear=LinearRegression()\n",
        "linear.fit(x_train,y_train)"
      ],
      "metadata": {
        "id": "fQ9ZjVrmoTHX"
      },
      "execution_count": 1,
      "outputs": []
    },
    {
      "cell_type": "code",
      "source": [
        "print('valeu of slope =', linear.coef_)\n",
        "print('valeu of intercept=', linear.intercept_)"
      ],
      "metadata": {
        "id": "gUMR01VJoTFV"
      },
      "execution_count": null,
      "outputs": []
    },
    {
      "cell_type": "code",
      "source": [
        "traning_predict=linear.predict(x_train)\n",
        "\n",
        "# traning score\n",
        "from sklearn.metrics import r2_score\n",
        "train_r2_score=r2_score(y_train, traning_predict)\n",
        "print('traning_acc_score=' , train_r2_score)"
      ],
      "metadata": {
        "id": "gaqheR0DoTCt"
      },
      "execution_count": null,
      "outputs": []
    },
    {
      "cell_type": "code",
      "source": [
        "y_pridect=linear.predict(x_test)"
      ],
      "metadata": {
        "id": "NXAtBm2ZoTAF"
      },
      "execution_count": null,
      "outputs": []
    },
    {
      "cell_type": "code",
      "source": [
        "l_train=linear.score(x_train,y_train)\n",
        "l_test=linear.score(x_test,y_test)\n",
        "print(['linear_training_accu',l_train, 'linear_testing_accu', l_test])"
      ],
      "metadata": {
        "id": "ug5Q0xRvoS9o"
      },
      "execution_count": null,
      "outputs": []
    },
    {
      "cell_type": "code",
      "source": [
        "linear.score(x_test,y_test)"
      ],
      "metadata": {
        "id": "v4rFrqKsoS60"
      },
      "execution_count": null,
      "outputs": []
    },
    {
      "cell_type": "code",
      "source": [
        "#Performance metrics\n",
        "from sklearn.metrics import mean_absolute_error\n",
        "from sklearn.metrics import mean_squared_error\n",
        "from sklearn.metrics import r2_score\n",
        "\n",
        "\n",
        "mse=mean_squared_error\n",
        "mae=mean_absolute_error\n",
        "r2_score=r2_score"
      ],
      "metadata": {
        "id": "cckiiQAboS4b"
      },
      "execution_count": null,
      "outputs": []
    },
    {
      "cell_type": "code",
      "source": [
        "print('mse=',mse(y_test,y_pridect))\n",
        "print('mae=',mae(y_test,y_pridect))\n",
        "print('r2_score=',r2_score(y_test,y_pridect))\n",
        "print('rmse= ', mse(y_test, y_pridect,squared=False))"
      ],
      "metadata": {
        "id": "EgirCU_uoS19"
      },
      "execution_count": null,
      "outputs": []
    },
    {
      "cell_type": "code",
      "source": [
        "print('twsting_r2_score')"
      ],
      "metadata": {
        "id": "DJZvadg1oSzi"
      },
      "execution_count": null,
      "outputs": []
    },
    {
      "cell_type": "code",
      "source": [
        "sns.scatterplot(y_test, color= \"blue\")\n",
        "sns.scatterplot(y_pridect, color= \"red\")\n",
        "\n",
        "plt.ylabel('real_data')"
      ],
      "metadata": {
        "id": "Y8ra0CvPoSwp"
      },
      "execution_count": null,
      "outputs": []
    },
    {
      "cell_type": "code",
      "source": [
        "real_pridect=y_test-y_pridect"
      ],
      "metadata": {
        "id": "sXqNFg6ToSuB"
      },
      "execution_count": null,
      "outputs": []
    },
    {
      "cell_type": "code",
      "source": [
        "sns.displot(real_pridect, kind= \"kde\")"
      ],
      "metadata": {
        "id": "uLeRLmZ5oSrZ"
      },
      "execution_count": null,
      "outputs": []
    },
    {
      "cell_type": "code",
      "source": [
        "#Lasso\n",
        "from sklearn.linear_model import Lasso\n",
        "lasso=Lasso()\n",
        "lasso.fit(x_train , y_train)"
      ],
      "metadata": {
        "id": "HGnqhQGEoSop"
      },
      "execution_count": null,
      "outputs": []
    },
    {
      "cell_type": "code",
      "source": [
        "print('slope_value', lasso.coef_)\n",
        "print('intersecp', lasso.intercept_)"
      ],
      "metadata": {
        "id": "26-Ii_BloSaP"
      },
      "execution_count": null,
      "outputs": []
    },
    {
      "cell_type": "code",
      "source": [
        "laso_tra=lasso.score(x_train,y_train)\n",
        "laso_test=lasso.score(x_test,y_test)\n",
        "print(['lasso_traing_acc=', laso_tra , 'lasso_testing_acc=', laso_test])"
      ],
      "metadata": {
        "id": "srQAJvm9pHaR"
      },
      "execution_count": null,
      "outputs": []
    },
    {
      "cell_type": "code",
      "source": [
        "laso_prdct=lasso.predict(x_test)"
      ],
      "metadata": {
        "id": "6iQOpdzCpHVy"
      },
      "execution_count": null,
      "outputs": []
    },
    {
      "cell_type": "code",
      "source": [
        "from sklearn.metrics import mean_absolute_error\n",
        "from sklearn.metrics import mean_squared_error\n",
        "from sklearn.metrics import r2_score\n",
        "\n",
        "\n",
        "mse=mean_squared_error\n",
        "mae=mean_absolute_error\n",
        "r2_score=r2_score\n",
        "\n",
        "\n",
        "print('mse=', mse(y_test,laso_prdct))\n",
        "print('mae=', mae(y_test,laso_prdct))\n",
        "print('r2_sore=', r2_score(y_test,laso_prdct))\n",
        "print('rmse= ', mse(y_test, laso_prdct,squared=False))"
      ],
      "metadata": {
        "id": "qaXz7s3CpHQo"
      },
      "execution_count": null,
      "outputs": []
    },
    {
      "cell_type": "code",
      "source": [
        "sns.scatterplot(y_test, color=\"blue\")\n",
        "sns.scatterplot(laso_prdct, color=\"red\")"
      ],
      "metadata": {
        "id": "NHlQo6DWpHNA"
      },
      "execution_count": null,
      "outputs": []
    },
    {
      "cell_type": "code",
      "source": [
        "sns.displot(y_test-laso_prdct , color=\"blue\" , kind=\"kde\")"
      ],
      "metadata": {
        "id": "wOTUgndZpHKj"
      },
      "execution_count": null,
      "outputs": []
    },
    {
      "cell_type": "code",
      "source": [
        "#Elastic net\n",
        "from sklearn.linear_model import ElasticNet\n",
        "ela_net=ElasticNet()\n",
        "ela_net.fit(x_train, y_train)"
      ],
      "metadata": {
        "id": "1S2YrkGGpHIQ"
      },
      "execution_count": null,
      "outputs": []
    },
    {
      "cell_type": "code",
      "source": [
        "print('ElasticNet_coef-', ela_net.coef_)\n",
        "print('elatocNet_intercept-', ela_net.intercept_)"
      ],
      "metadata": {
        "id": "IyK9WdaZpHFh"
      },
      "execution_count": null,
      "outputs": []
    },
    {
      "cell_type": "code",
      "source": [
        "ela_tra=ela_net.score(x_train,y_train)\n",
        "ela_test=ela_net.score(x_test,y_test)\n",
        "print(['elasticnet_traning_acc', ela_tra,'elasticnet_testing_acc' , ela_test])"
      ],
      "metadata": {
        "id": "MzgSKnLcpHDZ"
      },
      "execution_count": null,
      "outputs": []
    },
    {
      "cell_type": "code",
      "source": [
        "ela_pre=ela_net.predict(x_test)"
      ],
      "metadata": {
        "id": "JuNtvQV2pHA_"
      },
      "execution_count": null,
      "outputs": []
    },
    {
      "cell_type": "code",
      "source": [
        "print('elasticnet_mse-',mse(y_test,ela_pre))\n",
        "print('elasticnet_mae-',mae(y_test,ela_pre))\n",
        "print('elasticnet_r_score-',r2_score(y_test,ela_pre))"
      ],
      "metadata": {
        "id": "4mc8E30tpG-p"
      },
      "execution_count": null,
      "outputs": []
    },
    {
      "cell_type": "code",
      "source": [
        "print('linear_reg',['linear_training_accu',[l_train], 'linear_testing_accu', [l_test]])\n",
        "print('lasso',['lasso_traing_acc=', [laso_tra] , 'lasso_testing_acc=', [laso_test]])\n",
        "print('ridge',['ridge_traning_acc', [ridge.score(x_train,y_train)], 'ridge_testing_acc' ,[ridge.score(x_test,y_test)]])\n",
        "print('elasticnet',['elasticnet_traning_acc', [ela_tra],'elasticnet_testing_acc' , [ela_test]])"
      ],
      "metadata": {
        "id": "DTzPpATvpG8B"
      },
      "execution_count": null,
      "outputs": []
    },
    {
      "cell_type": "code",
      "source": [
        "from sklearn.model_selection import cross_val_score\n",
        "crossval_mse=cross_val_score(lasso,x_train,y_train, scoring=\"neg_mean_squared_error\" , cv=10)"
      ],
      "metadata": {
        "id": "hyIbmvk6pG5h"
      },
      "execution_count": null,
      "outputs": []
    },
    {
      "cell_type": "code",
      "source": [
        "np.mean(crossval_mse)"
      ],
      "metadata": {
        "id": "Db_ff8aGpG3A"
      },
      "execution_count": null,
      "outputs": []
    },
    {
      "cell_type": "code",
      "source": [
        "cross_r2=crossval_mse=cross_val_score(lasso,x_train,y_train, scoring=\"r2\" , cv=5)\n",
        "np.mean(cross_r2)"
      ],
      "metadata": {
        "id": "9odcghLDpG0X"
      },
      "execution_count": null,
      "outputs": []
    },
    {
      "cell_type": "code",
      "source": [],
      "metadata": {
        "id": "hMfZCrMSpGxi"
      },
      "execution_count": null,
      "outputs": []
    },
    {
      "cell_type": "code",
      "source": [],
      "metadata": {
        "id": "VDmU8lGVpGu5"
      },
      "execution_count": null,
      "outputs": []
    }
  ]
}